{
 "cells": [
  {
   "cell_type": "code",
   "execution_count": 9,
   "id": "2668bd0d",
   "metadata": {},
   "outputs": [],
   "source": [
    "#soru1 fibonacci serisi (istenen sayı)\n",
    "\n",
    "def fibonacci(bitis):\n",
    "    sayi1 = 0\n",
    "    sayi2 = 1\n",
    "    \n",
    "    if bitis<0:\n",
    "        print(\"Sıfırdan büyük bir sayı giriniz.\")\n",
    "        \n",
    "    elif bitis==0:\n",
    "        print(sayi1)\n",
    "    \n",
    "    elif bitis==1:\n",
    "        print(sayi1)\n",
    "        \n",
    "    else:\n",
    "        print(sayi1)\n",
    "        print(sayi2)\n",
    "        \n",
    "        for x in range(2,bitis):\n",
    "            sayi3 = sayi1 + sayi2\n",
    "            sayi1 = sayi2\n",
    "            sayi2 = sayi3\n",
    "            print(sayi3)"
   ]
  },
  {
   "cell_type": "code",
   "execution_count": 10,
   "id": "b50f08d6",
   "metadata": {},
   "outputs": [
    {
     "name": "stdout",
     "output_type": "stream",
     "text": [
      "Sıfırdan büyük bir sayı giriniz.\n"
     ]
    }
   ],
   "source": [
    "fibonacci(-1)"
   ]
  },
  {
   "cell_type": "code",
   "execution_count": 13,
   "id": "74805dff",
   "metadata": {},
   "outputs": [
    {
     "name": "stdout",
     "output_type": "stream",
     "text": [
      "0\n",
      "1\n",
      "1\n",
      "2\n",
      "3\n",
      "5\n",
      "8\n",
      "13\n",
      "21\n"
     ]
    }
   ],
   "source": [
    "fibonacci(9)"
   ]
  },
  {
   "cell_type": "code",
   "execution_count": 14,
   "id": "88b179e6",
   "metadata": {},
   "outputs": [],
   "source": [
    "#soru2 fibonacci serisi (istenen sayıya kadar)\n",
    "\n",
    "def fibo(bitis):\n",
    "    sayi1 = 0\n",
    "    sayi2 = 1\n",
    "    \n",
    "    while sayi1 < bitis:\n",
    "        print(sayi1)\n",
    "        sayi1, sayi2 = sayi2, sayi1 + sayi2"
   ]
  },
  {
   "cell_type": "code",
   "execution_count": 15,
   "id": "9d81275d",
   "metadata": {},
   "outputs": [
    {
     "name": "stdout",
     "output_type": "stream",
     "text": [
      "0\n",
      "1\n",
      "1\n",
      "2\n",
      "3\n",
      "5\n",
      "8\n"
     ]
    }
   ],
   "source": [
    "fibo(9)"
   ]
  },
  {
   "cell_type": "code",
   "execution_count": 17,
   "id": "e3c424f3",
   "metadata": {},
   "outputs": [
    {
     "name": "stdout",
     "output_type": "stream",
     "text": [
      "Bir sayı giriniz 8\n",
      "8 sayısı mükemmel sayı değildir.\n"
     ]
    }
   ],
   "source": [
    "#soru3 fonksiyon ile mükemmel sayı kontrolü\n",
    "\n",
    "def mukemmelkontrol(sayi):\n",
    "    toplam = 0\n",
    "    for i in range(1,sayi):\n",
    "        if(sayi % i == 0):\n",
    "            toplam += i\n",
    "    if(toplam == sayi):\n",
    "        print(sayi, \"sayısı mükemmel sayıdır.\")\n",
    "    \n",
    "    else:\n",
    "        print(sayi, \"sayısı mükemmel sayı değildir.\")\n",
    "        \n",
    "sayi = int(input(\"Bir sayı giriniz \"))\n",
    "mukemmelkontrol(sayi)"
   ]
  },
  {
   "cell_type": "code",
   "execution_count": null,
   "id": "a4870d79",
   "metadata": {},
   "outputs": [],
   "source": []
  }
 ],
 "metadata": {
  "kernelspec": {
   "display_name": "Python 3 (ipykernel)",
   "language": "python",
   "name": "python3"
  },
  "language_info": {
   "codemirror_mode": {
    "name": "ipython",
    "version": 3
   },
   "file_extension": ".py",
   "mimetype": "text/x-python",
   "name": "python",
   "nbconvert_exporter": "python",
   "pygments_lexer": "ipython3",
   "version": "3.9.13"
  }
 },
 "nbformat": 4,
 "nbformat_minor": 5
}
